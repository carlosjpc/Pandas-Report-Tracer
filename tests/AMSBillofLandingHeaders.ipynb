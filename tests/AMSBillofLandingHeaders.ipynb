{
 "cells": [
  {
   "cell_type": "code",
   "execution_count": 1,
   "metadata": {},
   "outputs": [],
   "source": [
    "import pandas as pd\n",
    "import numpy as np\n",
    "import datetime"
   ]
  },
  {
   "cell_type": "code",
   "execution_count": 2,
   "metadata": {},
   "outputs": [
    {
     "name": "stderr",
     "output_type": "stream",
     "text": [
      "/Users/carlos_perez/git/jupiter_notebooks/.venv/lib/python2.7/site-packages/IPython/core/interactiveshell.py:2714: DtypeWarning: Columns (26,27,28,29,30,31,32) have mixed types. Specify dtype option on import or set low_memory=False.\n",
      "  interactivity=interactivity, compiler=compiler, result=result)\n"
     ]
    }
   ],
   "source": [
    "df = pd.read_csv('/tmp/AMSBillofLadingHeaders-2018.csv')"
   ]
  },
  {
   "cell_type": "code",
   "execution_count": 3,
   "metadata": {},
   "outputs": [],
   "source": [
    "df = df.sample(100000).reset_index()"
   ]
  },
  {
   "cell_type": "code",
   "execution_count": 4,
   "metadata": {},
   "outputs": [],
   "source": [
    "df.to_csv('/tmp/input/AMSBillofLandingHeaders-2018-sample.csv')"
   ]
  },
  {
   "cell_type": "code",
   "execution_count": 5,
   "metadata": {},
   "outputs": [
    {
     "data": {
      "text/plain": [
       "Index([u'index', u'identifier', u'carrier_code', u'vessel_country_code',\n",
       "       u'vessel_name', u'port_of_unlading', u'estimated_arrival_date',\n",
       "       u'foreign_port_of_lading_qualifier', u'foreign_port_of_lading',\n",
       "       u'manifest_quantity', u'manifest_unit', u'weight', u'weight_unit',\n",
       "       u'measurement', u'measurement_unit', u'record_status_indicator',\n",
       "       u'place_of_receipt', u'port_of_destination',\n",
       "       u'foreign_port_of_destination_qualifier',\n",
       "       u'foreign_port_of_destination', u'conveyance_id_qualifier',\n",
       "       u'conveyance_id', u'in_bond_entry_type', u'mode_of_transportation',\n",
       "       u'secondary_notify_party_1', u'secondary_notify_party_2',\n",
       "       u'secondary_notify_party_3', u'secondary_notify_party_4',\n",
       "       u'secondary_notify_party_5', u'secondary_notify_party_6',\n",
       "       u'secondary_notify_party_7', u'secondary_notify_party_8',\n",
       "       u'secondary_notify_party_9', u'secondary_notify_party_10',\n",
       "       u'actual_arrival_date'],\n",
       "      dtype='object')"
      ]
     },
     "execution_count": 5,
     "metadata": {},
     "output_type": "execute_result"
    }
   ],
   "source": [
    "df.columns"
   ]
  },
  {
   "cell_type": "code",
   "execution_count": 6,
   "metadata": {},
   "outputs": [],
   "source": [
    "df['estimated_arrival_date'] = pd.to_datetime(df['estimated_arrival_date'])"
   ]
  },
  {
   "cell_type": "code",
   "execution_count": 7,
   "metadata": {},
   "outputs": [],
   "source": [
    "df = df[df['estimated_arrival_date'] >= datetime.date(2018, 7, 10)]"
   ]
  },
  {
   "cell_type": "code",
   "execution_count": 8,
   "metadata": {},
   "outputs": [
    {
     "data": {
      "text/plain": [
       "['Detroit, Michigan',\n",
       " 'Houston, Texas',\n",
       " 'New York, New York ',\n",
       " 'Port Everglades, Florida',\n",
       " 'Philadelphia, Pennsylvania',\n",
       " 'Charleston, South Carolina',\n",
       " 'Norfolk, Virginia ',\n",
       " 'San Diego, California',\n",
       " 'Oakland, California',\n",
       " 'Baltimore, Maryland',\n",
       " 'New York/Newark Area, Newark, New Jersey',\n",
       " 'Boston, Massachusetts',\n",
       " 'West Palm Beach, Florida',\n",
       " 'Long Beach, California',\n",
       " 'Seattle, Washington',\n",
       " 'San Juan, Puerto Rico ',\n",
       " 'Wilmington, North Carolina ',\n",
       " 'Mobile, Alabama ',\n",
       " 'Savannah, Georgia',\n",
       " 'Miami, Florida',\n",
       " 'Honolulu, Hawaii',\n",
       " 'Los Angeles, California',\n",
       " 'New Orleans, Louisiana',\n",
       " 'Jacksonville, Florida',\n",
       " 'Tacoma, Washington',\n",
       " 'Port Hueneme, California']"
      ]
     },
     "execution_count": 8,
     "metadata": {},
     "output_type": "execute_result"
    }
   ],
   "source": [
    "ports = list(set(df['port_of_unlading'].sample(500)))\n",
    "ports"
   ]
  },
  {
   "cell_type": "code",
   "execution_count": 9,
   "metadata": {},
   "outputs": [
    {
     "data": {
      "text/plain": [
       "12531"
      ]
     },
     "execution_count": 9,
     "metadata": {},
     "output_type": "execute_result"
    }
   ],
   "source": [
    "len(df)"
   ]
  },
  {
   "cell_type": "code",
   "execution_count": 10,
   "metadata": {},
   "outputs": [],
   "source": [
    "df = df[df['port_of_unlading'].isin(ports)]"
   ]
  },
  {
   "cell_type": "code",
   "execution_count": 11,
   "metadata": {},
   "outputs": [
    {
     "data": {
      "text/plain": [
       "12374"
      ]
     },
     "execution_count": 11,
     "metadata": {},
     "output_type": "execute_result"
    }
   ],
   "source": [
    "len(df)"
   ]
  },
  {
   "cell_type": "code",
   "execution_count": 12,
   "metadata": {},
   "outputs": [
    {
     "data": {
      "text/plain": [
       "[nan, 'Yavaros,Mexico']"
      ]
     },
     "execution_count": 12,
     "metadata": {},
     "output_type": "execute_result"
    }
   ],
   "source": [
    "f_ports = list(set(df['foreign_port_of_destination'].sample(500)))\n",
    "f_ports"
   ]
  },
  {
   "cell_type": "code",
   "execution_count": 13,
   "metadata": {},
   "outputs": [],
   "source": [
    "df = df[df['foreign_port_of_destination'].isin(f_ports)]"
   ]
  },
  {
   "cell_type": "code",
   "execution_count": 14,
   "metadata": {},
   "outputs": [
    {
     "data": {
      "text/plain": [
       "12307"
      ]
     },
     "execution_count": 14,
     "metadata": {},
     "output_type": "execute_result"
    }
   ],
   "source": [
    "len(df)"
   ]
  },
  {
   "cell_type": "code",
   "execution_count": 15,
   "metadata": {},
   "outputs": [],
   "source": [
    "df.to_csv('/tmp/result/filtered_AMSBillofLandingHeaders-2018-sample.csv', index=False)"
   ]
  },
  {
   "cell_type": "code",
   "execution_count": null,
   "metadata": {},
   "outputs": [],
   "source": []
  }
 ],
 "metadata": {
  "kernelspec": {
   "display_name": "Python 2",
   "language": "python",
   "name": "python2"
  },
  "language_info": {
   "codemirror_mode": {
    "name": "ipython",
    "version": 2
   },
   "file_extension": ".py",
   "mimetype": "text/x-python",
   "name": "python",
   "nbconvert_exporter": "python",
   "pygments_lexer": "ipython2",
   "version": "2.7.10"
  }
 },
 "nbformat": 4,
 "nbformat_minor": 2
}
